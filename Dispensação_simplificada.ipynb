{
  "nbformat": 4,
  "nbformat_minor": 0,
  "metadata": {
    "colab": {
      "name": "Dispensação simplificada.ipynb",
      "provenance": [],
      "collapsed_sections": [],
      "authorship_tag": "ABX9TyPNyTkMgaep+o7jboY0LKpA",
      "include_colab_link": true
    },
    "kernelspec": {
      "name": "python3",
      "display_name": "Python 3"
    },
    "language_info": {
      "name": "python"
    }
  },
  "cells": [
    {
      "cell_type": "markdown",
      "metadata": {
        "id": "view-in-github",
        "colab_type": "text"
      },
      "source": [
        "<a href=\"https://colab.research.google.com/github/Interativa-TI/pharmusmc-sample/blob/main/Dispensa%C3%A7%C3%A3o_simplificada.ipynb\" target=\"_parent\"><img src=\"https://colab.research.google.com/assets/colab-badge.svg\" alt=\"Open In Colab\"/></a>"
      ]
    },
    {
      "cell_type": "code",
      "execution_count": 45,
      "metadata": {
        "id": "xfv-cC0OREuA"
      },
      "outputs": [],
      "source": [
        "import requests"
      ]
    },
    {
      "cell_type": "code",
      "source": [
        "import json"
      ],
      "metadata": {
        "id": "_d_iEILQRfsR"
      },
      "execution_count": 46,
      "outputs": []
    },
    {
      "cell_type": "code",
      "source": [
        "import pandas as pd"
      ],
      "metadata": {
        "id": "xkmsaNRStIqM"
      },
      "execution_count": 47,
      "outputs": []
    },
    {
      "cell_type": "code",
      "source": [
        "import os"
      ],
      "metadata": {
        "id": "PFnAZ1bTx3kE"
      },
      "execution_count": 48,
      "outputs": []
    },
    {
      "cell_type": "markdown",
      "source": [
        "# Credenciais\n",
        "\n",
        "Altere as variáveis abaixo com as credenciais recebidas por e-mail ou crie um arquivo pharmusmc_credenciais.csv (modelo disponível no repositório) e cole na sessão de arquivos do Colab."
      ],
      "metadata": {
        "id": "t9SmU0VZi8Rn"
      }
    },
    {
      "cell_type": "code",
      "source": [
        "credencial_email = \"teste@teste\"\n",
        "credencial_senha = \"343434\""
      ],
      "metadata": {
        "id": "6LXLOitssJ71"
      },
      "execution_count": 49,
      "outputs": []
    },
    {
      "cell_type": "code",
      "source": [
        "if os.path.exists(\"pharmusmc_credenciais.csv\"):\n",
        "  credenciais = pd.read_csv(\"pharmusmc_credenciais.csv\", sep=';')\n",
        "  if not credenciais.empty:\n",
        "    credencial_email = credenciais.email[0]\n",
        "    credencial_senha = credenciais.senha[0]  "
      ],
      "metadata": {
        "id": "nsDhOfmdtHVl"
      },
      "execution_count": 50,
      "outputs": []
    },
    {
      "cell_type": "markdown",
      "source": [
        "# Autenticação"
      ],
      "metadata": {
        "id": "SNbGEd8J4HCf"
      }
    },
    {
      "cell_type": "code",
      "source": [
        "payload_aut = {\n",
        "    \"email\": \"{email}\".format(email = credencial_email),\n",
        "    \"password\": \"{senha}\".format(senha = credencial_senha)\n",
        "}"
      ],
      "metadata": {
        "id": "CiR-_DC-sGq1"
      },
      "execution_count": 51,
      "outputs": []
    },
    {
      "cell_type": "code",
      "source": [
        "url = 'https://hmcapi.pharmus.com.br/api/v1/auth/login'"
      ],
      "metadata": {
        "id": "BMKNtrh7RkzC"
      },
      "execution_count": 52,
      "outputs": []
    },
    {
      "cell_type": "code",
      "source": [
        "headers = {\n",
        "  'Content-Type': 'application/json',\n",
        "  'Accept': 'application/json'\n",
        "}"
      ],
      "metadata": {
        "id": "pKLqifoRR5q5"
      },
      "execution_count": 53,
      "outputs": []
    },
    {
      "cell_type": "code",
      "source": [
        "response = requests.request('POST', url, headers=headers, json=payload_aut)"
      ],
      "metadata": {
        "id": "B_zY_pSaR87j"
      },
      "execution_count": 54,
      "outputs": []
    },
    {
      "cell_type": "code",
      "source": [
        "if response.status_code != 200:\n",
        "  print(response.status_code)\n"
      ],
      "metadata": {
        "id": "57jXZpCoY3dp"
      },
      "execution_count": 55,
      "outputs": []
    },
    {
      "cell_type": "code",
      "source": [
        "resposta = response.json()"
      ],
      "metadata": {
        "id": "Knnrmc4BSHEp"
      },
      "execution_count": 56,
      "outputs": []
    },
    {
      "cell_type": "code",
      "source": [
        "token_aut = resposta['access_token']"
      ],
      "metadata": {
        "id": "UhZ1-R8eSXsT"
      },
      "execution_count": 57,
      "outputs": []
    },
    {
      "cell_type": "markdown",
      "source": [
        "# Consumo do recurso"
      ],
      "metadata": {
        "id": "lNy85FDe5tRj"
      }
    },
    {
      "cell_type": "code",
      "source": [
        "headers = {\n",
        "            'Content-Type': 'application/json',\n",
        "            'Accept': 'application/json',\n",
        "            'Authorization': 'Bearer {token}'.format(token = token_aut)\n",
        "          }"
      ],
      "metadata": {
        "id": "DpJuJt0eUgKt"
      },
      "execution_count": 58,
      "outputs": []
    },
    {
      "cell_type": "code",
      "source": [
        "url = 'https://hmcapi.pharmus.com.br/api/v1/dispensacao-simp'"
      ],
      "metadata": {
        "id": "zrmWKNJNVDT0"
      },
      "execution_count": 59,
      "outputs": []
    },
    {
      "cell_type": "code",
      "source": [
        "payload = {\n",
        "    \"cid\": \"A28\",\n",
        "    \"uf\": \"SP\",\n",
        "    \"comprador_is_paciente\": True,\n",
        "    \"data_venda\": \"2022-08-05\",\n",
        "    \"hora_venda\": \"14:30:00\",\n",
        "    \"data_receita\": \"2022-08-04\",\n",
        "    \"idtipo_receita\": 1,\n",
        "    \"uso_animal\": False,\n",
        "    \"nome_animal\": \"\",\n",
        "    \"numero_receita\": 1234,\n",
        "    \"uso_prolongado\": True,\n",
        "    \"paciente\": {\n",
        "        \"nome\": \"Comprador e Paciente\",\n",
        "        \"sexo\": 1,\n",
        "        \"data_nascimento\": \"1990-01-01\",\n",
        "        \"uf\": \"SP\",\n",
        "        \"documento\": 111111111,\n",
        "        \"uf_doc\": \"SP\",\n",
        "        \"orgao_expedidor\": \"SSP\",\n",
        "        \"idtipo_documento\": 1,\n",
        "        \"telefone\": \"1100000000\",\n",
        "        \"cep\": \"03669000\",\n",
        "        \"codigo_ibge\": 3550308,\n",
        "        \"logradouro\": \"Rua de teste\",\n",
        "        \"complemento_logradouro\": \"Casa 2\",\n",
        "        \"numero_logradouro\": \"nn\"\n",
        "    },\n",
        "    \"comprador\": {\n",
        "        \"nome\": \"Comprador e Paciente\",\n",
        "        \"sexo\": 1,\n",
        "        \"data_nascimento\": \"1990-01-01\",\n",
        "        \"uf\": \"SP\",\n",
        "        \"documento\": 111111111,\n",
        "        \"uf_doc\": \"SP\",\n",
        "        \"orgao_expedidor\": \"SSP\",\n",
        "        \"idtipo_documento\": 1,\n",
        "        \"telefone\": \"1100000000\",\n",
        "        \"cep\": \"03669000\",\n",
        "        \"codigo_ibge\": 3550308,\n",
        "        \"logradouro\": \"Rua de teste\",\n",
        "        \"complemento_logradouro\": \"Casa 2\",\n",
        "        \"numero_logradouro\": \"nn\"\n",
        "    },\n",
        "    \"prescritor\": {\n",
        "        \"nome\": \"Prescritor de teste\",\n",
        "        \"inscricao\": 1234,\n",
        "        \"conselho_profissional\": \"CRM\",\n",
        "        \"uf\": \"SP\",\n",
        "        \"especialidade\": \"Clínico Geral\"\n",
        "    },\n",
        "    \"medicamentos\": [\n",
        "        {\n",
        "            \"registro_ms\": \"1023508450181\",\n",
        "            \"qtd\": 1,\n",
        "            \"lotes\": [{\n",
        "                    \"lote\": \"1\",\n",
        "                    \"validade\": \"2022-12-31\",\n",
        "                    \"qtd\": 1\n",
        "                }]\n",
        "        }\n",
        "    ]\n",
        "}"
      ],
      "metadata": {
        "id": "UqXXN6h99UKv"
      },
      "execution_count": 60,
      "outputs": []
    },
    {
      "cell_type": "code",
      "source": [
        "response = requests.request('POST', url, headers=headers, json=payload)"
      ],
      "metadata": {
        "id": "BK43yOhqVxUg"
      },
      "execution_count": 61,
      "outputs": []
    },
    {
      "cell_type": "code",
      "source": [
        "dados = response.json()"
      ],
      "metadata": {
        "id": "SYUQKSE1WYJJ"
      },
      "execution_count": 62,
      "outputs": []
    },
    {
      "cell_type": "code",
      "source": [
        "print(response.status_code)"
      ],
      "metadata": {
        "id": "uOs_uI2nEndr",
        "colab": {
          "base_uri": "https://localhost:8080/"
        },
        "outputId": "fc5ee22f-f3b8-4022-e710-b65aa17a1151"
      },
      "execution_count": 63,
      "outputs": [
        {
          "output_type": "stream",
          "name": "stdout",
          "text": [
            "200\n"
          ]
        }
      ]
    },
    {
      "cell_type": "code",
      "source": [
        "if response.status_code == 201:\n",
        "  print(dados['status'])\n",
        "  print(dados['data']['msg'])\n"
      ],
      "metadata": {
        "id": "ZEDksYnRa0dY"
      },
      "execution_count": 64,
      "outputs": []
    },
    {
      "cell_type": "code",
      "source": [
        "if response.status_code == 200:\n",
        "  print(dados['status'])\n",
        "  print(dados['message'])\n"
      ],
      "metadata": {
        "colab": {
          "base_uri": "https://localhost:8080/"
        },
        "id": "W5HX-z_Ht32n",
        "outputId": "5138cdf4-baf4-4f7d-ee4e-e4d3b9f4669d"
      },
      "execution_count": 65,
      "outputs": [
        {
          "output_type": "stream",
          "name": "stdout",
          "text": [
            "success\n",
            "A dispensação foi cadastrada com sucesso!\n"
          ]
        }
      ]
    },
    {
      "cell_type": "code",
      "source": [
        "if response.status_code == 422:\n",
        "  print(\"Mensagem de erro: {msg}\".format(msg=dados['message']))\n",
        "  for campo in dados['errors']:\n",
        "    print(\"Campo com erro: {campo}\".format(campo=campo))\n",
        "    for msg in dados['errors'][campo]:\n",
        "      print(\"--> {msg}\".format(msg=msg))\n",
        "    \n",
        "    "
      ],
      "metadata": {
        "id": "OXFjgYAgKv-C"
      },
      "execution_count": 66,
      "outputs": []
    }
  ]
}