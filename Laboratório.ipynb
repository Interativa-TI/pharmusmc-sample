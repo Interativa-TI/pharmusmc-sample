{
  "nbformat": 4,
  "nbformat_minor": 0,
  "metadata": {
    "colab": {
      "provenance": [],
      "collapsed_sections": [],
      "authorship_tag": "ABX9TyO1MuX3VFMikQ0m5yfVW07u",
      "include_colab_link": true
    },
    "kernelspec": {
      "name": "python3",
      "display_name": "Python 3"
    },
    "language_info": {
      "name": "python"
    }
  },
  "cells": [
    {
      "cell_type": "markdown",
      "metadata": {
        "id": "view-in-github",
        "colab_type": "text"
      },
      "source": [
        "<a href=\"https://colab.research.google.com/github/Interativa-TI/pharmusmc-sample/blob/main/Laborat%C3%B3rio.ipynb\" target=\"_parent\"><img src=\"https://colab.research.google.com/assets/colab-badge.svg\" alt=\"Open In Colab\"/></a>"
      ]
    },
    {
      "cell_type": "code",
      "execution_count": 31,
      "metadata": {
        "id": "xfv-cC0OREuA"
      },
      "outputs": [],
      "source": [
        "import requests"
      ]
    },
    {
      "cell_type": "code",
      "source": [
        "import json"
      ],
      "metadata": {
        "id": "_d_iEILQRfsR"
      },
      "execution_count": 32,
      "outputs": []
    },
    {
      "cell_type": "code",
      "source": [
        "import pandas as pd"
      ],
      "metadata": {
        "id": "xkmsaNRStIqM"
      },
      "execution_count": 33,
      "outputs": []
    },
    {
      "cell_type": "code",
      "source": [
        "import os"
      ],
      "metadata": {
        "id": "PFnAZ1bTx3kE"
      },
      "execution_count": 34,
      "outputs": []
    },
    {
      "cell_type": "markdown",
      "source": [
        "# Credenciais\n",
        "\n",
        "Altere as variáveis abaixo com as credenciais recebidas por e-mail ou crie um arquivo pharmusmc_credenciais.csv (modelo disponível no repositório) e cole na sessão de arquivos do Colab."
      ],
      "metadata": {
        "id": "t9SmU0VZi8Rn"
      }
    },
    {
      "cell_type": "code",
      "source": [
        "credencial_email = \"teste@teste\"\n",
        "credencial_senha = \"343434\""
      ],
      "metadata": {
        "id": "6LXLOitssJ71"
      },
      "execution_count": 35,
      "outputs": []
    },
    {
      "cell_type": "code",
      "source": [
        "if os.path.exists(\"pharmusmc_credenciais.csv\"):\n",
        "  credenciais = pd.read_csv(\"pharmusmc_credenciais.csv\", sep=';')\n",
        "  if not credenciais.empty:\n",
        "    credencial_email = credenciais.email[0]\n",
        "    credencial_senha = credenciais.senha[0]  "
      ],
      "metadata": {
        "id": "nsDhOfmdtHVl"
      },
      "execution_count": 36,
      "outputs": []
    },
    {
      "cell_type": "markdown",
      "source": [
        "# Autenticação"
      ],
      "metadata": {
        "id": "SNbGEd8J4HCf"
      }
    },
    {
      "cell_type": "code",
      "source": [
        "payload_aut = {\n",
        "    \"email\": \"{email}\".format(email = credencial_email),\n",
        "    \"password\": \"{senha}\".format(senha = credencial_senha)\n",
        "}"
      ],
      "metadata": {
        "id": "CiR-_DC-sGq1"
      },
      "execution_count": 37,
      "outputs": []
    },
    {
      "cell_type": "code",
      "source": [
        "url = 'https://hmcapi.pharmus.com.br/api/v1/auth/login'"
      ],
      "metadata": {
        "id": "BMKNtrh7RkzC"
      },
      "execution_count": 38,
      "outputs": []
    },
    {
      "cell_type": "code",
      "source": [
        "headers = {\n",
        "  'Content-Type': 'application/json',\n",
        "  'Accept': 'application/json'\n",
        "}"
      ],
      "metadata": {
        "id": "pKLqifoRR5q5"
      },
      "execution_count": 39,
      "outputs": []
    },
    {
      "cell_type": "code",
      "source": [
        "response = requests.request('POST', url, headers=headers, json=payload_aut)"
      ],
      "metadata": {
        "id": "B_zY_pSaR87j"
      },
      "execution_count": 40,
      "outputs": []
    },
    {
      "cell_type": "code",
      "source": [
        "if response.status_code != 200:\n",
        "  print(response.status_code)\n"
      ],
      "metadata": {
        "id": "57jXZpCoY3dp"
      },
      "execution_count": 41,
      "outputs": []
    },
    {
      "cell_type": "code",
      "source": [
        "resposta = response.json()"
      ],
      "metadata": {
        "id": "Knnrmc4BSHEp"
      },
      "execution_count": 42,
      "outputs": []
    },
    {
      "cell_type": "code",
      "source": [
        "token_aut = resposta['access_token']"
      ],
      "metadata": {
        "id": "UhZ1-R8eSXsT"
      },
      "execution_count": 43,
      "outputs": []
    },
    {
      "cell_type": "markdown",
      "source": [
        "# Consumo do recurso"
      ],
      "metadata": {
        "id": "lNy85FDe5tRj"
      }
    },
    {
      "cell_type": "code",
      "source": [
        "headers = {\n",
        "            'Content-Type': 'application/json',\n",
        "            'Accept': 'application/json',\n",
        "            'Authorization': 'Bearer {token}'.format(token = token_aut)\n",
        "          }"
      ],
      "metadata": {
        "id": "DpJuJt0eUgKt"
      },
      "execution_count": 44,
      "outputs": []
    },
    {
      "cell_type": "code",
      "source": [
        "url = 'https://hmcapi.pharmus.com.br/api/v1/laboratorio'"
      ],
      "metadata": {
        "id": "zrmWKNJNVDT0"
      },
      "execution_count": 45,
      "outputs": []
    },
    {
      "cell_type": "code",
      "source": [
        "payload = {\n",
        "    \"descricao\": \"Laboratório de Teste\",\n",
        "    \"cod_integracao\": \"22\"\n",
        "}"
      ],
      "metadata": {
        "id": "UqXXN6h99UKv"
      },
      "execution_count": 46,
      "outputs": []
    },
    {
      "cell_type": "code",
      "source": [
        "response = requests.request('POST', url, headers=headers, json=payload)"
      ],
      "metadata": {
        "id": "BK43yOhqVxUg"
      },
      "execution_count": 47,
      "outputs": []
    },
    {
      "cell_type": "code",
      "source": [
        "dados = response.json()"
      ],
      "metadata": {
        "id": "SYUQKSE1WYJJ"
      },
      "execution_count": 48,
      "outputs": []
    },
    {
      "cell_type": "code",
      "source": [
        "print(response.status_code)"
      ],
      "metadata": {
        "id": "uOs_uI2nEndr",
        "colab": {
          "base_uri": "https://localhost:8080/"
        },
        "outputId": "62e1f426-ba5e-4b50-e3a3-570c7b717419"
      },
      "execution_count": 49,
      "outputs": [
        {
          "output_type": "stream",
          "name": "stdout",
          "text": [
            "422\n"
          ]
        }
      ]
    },
    {
      "cell_type": "code",
      "source": [
        "if response.status_code == 201:\n",
        "  print(dados['status'])\n",
        "  print(dados['data']['msg'])\n"
      ],
      "metadata": {
        "id": "ZEDksYnRa0dY"
      },
      "execution_count": 50,
      "outputs": []
    },
    {
      "cell_type": "code",
      "source": [
        "if response.status_code == 200:\n",
        "  print(dados['status'])\n",
        "  print(dados['data']['msg'])\n"
      ],
      "metadata": {
        "id": "W5HX-z_Ht32n"
      },
      "execution_count": 51,
      "outputs": []
    },
    {
      "cell_type": "code",
      "source": [
        "if response.status_code == 422:\n",
        "  print(\"Mensagem de erro: {msg}\".format(msg=dados['message']))\n",
        "  for campo in dados['errors']:\n",
        "    print(\"Campo com erro: {campo}\".format(campo=campo))\n",
        "    for msg in dados['errors'][campo]:\n",
        "      print(\"--> {msg}\".format(msg=msg))\n",
        "    \n",
        "    "
      ],
      "metadata": {
        "id": "OXFjgYAgKv-C",
        "colab": {
          "base_uri": "https://localhost:8080/"
        },
        "outputId": "262fc6ce-0512-4987-e670-96738e7ffeac"
      },
      "execution_count": 52,
      "outputs": [
        {
          "output_type": "stream",
          "name": "stdout",
          "text": [
            "Mensagem de erro: Os dados fornecidos estão inválidos.\n",
            "Campo com erro: cod_integracao\n",
            "--> O campo cod integracao já está sendo utilizado.\n"
          ]
        }
      ]
    },
    {
      "cell_type": "markdown",
      "source": [
        "# Consultando pelo código de integração"
      ],
      "metadata": {
        "id": "fKWoL2xr0HdF"
      }
    },
    {
      "cell_type": "code",
      "source": [
        "headers = {\n",
        "            'Content-Type': 'application/json',\n",
        "            'Accept': 'application/json',\n",
        "            'Authorization': 'Bearer {token}'.format(token = token_aut)\n",
        "          }"
      ],
      "metadata": {
        "id": "9BciQUqo0HdI"
      },
      "execution_count": 62,
      "outputs": []
    },
    {
      "cell_type": "code",
      "source": [
        "url = 'https://hmcapi.pharmus.com.br/api/v1/laboratorio/pesquisa/cod-integracao'"
      ],
      "metadata": {
        "id": "mW7vnvy_0HdJ"
      },
      "execution_count": 63,
      "outputs": []
    },
    {
      "cell_type": "code",
      "source": [
        "payload = {\n",
        "    \"cod_integracao\": \"22\"\n",
        "}"
      ],
      "metadata": {
        "id": "9jn0UByO0HdJ"
      },
      "execution_count": 64,
      "outputs": []
    },
    {
      "cell_type": "code",
      "source": [
        "response = requests.request('POST', url, headers=headers, json=payload)"
      ],
      "metadata": {
        "id": "wDzP9jX90HdK"
      },
      "execution_count": 65,
      "outputs": []
    },
    {
      "cell_type": "code",
      "source": [
        "dados = response.json()"
      ],
      "metadata": {
        "id": "9823iJ0F0HdL"
      },
      "execution_count": 66,
      "outputs": []
    },
    {
      "cell_type": "code",
      "source": [
        "print(response.status_code)"
      ],
      "metadata": {
        "colab": {
          "base_uri": "https://localhost:8080/"
        },
        "outputId": "83b7df29-eb8f-42a3-b099-0b9c9233239d",
        "id": "SZz26Ivd0HdL"
      },
      "execution_count": 67,
      "outputs": [
        {
          "output_type": "stream",
          "name": "stdout",
          "text": [
            "200\n"
          ]
        }
      ]
    },
    {
      "cell_type": "code",
      "source": [
        "if response.status_code == 201:\n",
        "  print(dados['status'])\n",
        "  print(dados['data']['msg'])\n"
      ],
      "metadata": {
        "id": "SGYVigJa0HdM"
      },
      "execution_count": 68,
      "outputs": []
    },
    {
      "cell_type": "code",
      "source": [
        "if response.status_code == 200:\n",
        "  print(dados['status'])\n",
        "  if dados['status'] == 'success':\n",
        "    print(dados['data']['idlaboratorio'])\n",
        "  else:\n",
        "    print(dados['message'])\n",
        "\n"
      ],
      "metadata": {
        "colab": {
          "base_uri": "https://localhost:8080/"
        },
        "id": "83_nezhp0iSe",
        "outputId": "c988fd3d-2da9-440d-8809-c45971a2c305"
      },
      "execution_count": 69,
      "outputs": [
        {
          "output_type": "stream",
          "name": "stdout",
          "text": [
            "success\n",
            "5638\n"
          ]
        }
      ]
    }
  ]
}