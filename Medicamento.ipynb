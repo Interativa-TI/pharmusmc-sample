{
  "nbformat": 4,
  "nbformat_minor": 0,
  "metadata": {
    "colab": {
      "provenance": [],
      "collapsed_sections": [],
      "authorship_tag": "ABX9TyM7Sb/nW5tbg6tMTOO+Nayd",
      "include_colab_link": true
    },
    "kernelspec": {
      "name": "python3",
      "display_name": "Python 3"
    },
    "language_info": {
      "name": "python"
    }
  },
  "cells": [
    {
      "cell_type": "markdown",
      "metadata": {
        "id": "view-in-github",
        "colab_type": "text"
      },
      "source": [
        "<a href=\"https://colab.research.google.com/github/Interativa-TI/pharmusmc-sample/blob/main/Medicamento.ipynb\" target=\"_parent\"><img src=\"https://colab.research.google.com/assets/colab-badge.svg\" alt=\"Open In Colab\"/></a>"
      ]
    },
    {
      "cell_type": "code",
      "execution_count": 14,
      "metadata": {
        "id": "xfv-cC0OREuA"
      },
      "outputs": [],
      "source": [
        "import requests"
      ]
    },
    {
      "cell_type": "code",
      "source": [
        "import json"
      ],
      "metadata": {
        "id": "_d_iEILQRfsR"
      },
      "execution_count": 15,
      "outputs": []
    },
    {
      "cell_type": "code",
      "source": [
        "import pandas as pd"
      ],
      "metadata": {
        "id": "xkmsaNRStIqM"
      },
      "execution_count": 16,
      "outputs": []
    },
    {
      "cell_type": "code",
      "source": [
        "import os"
      ],
      "metadata": {
        "id": "PFnAZ1bTx3kE"
      },
      "execution_count": 17,
      "outputs": []
    },
    {
      "cell_type": "markdown",
      "source": [
        "# Credenciais\n",
        "\n",
        "Altere as variáveis abaixo com as credenciais recebidas por e-mail ou crie um arquivo pharmusmc_credenciais.csv (modelo disponível no repositório) e cole na sessão de arquivos do Colab."
      ],
      "metadata": {
        "id": "t9SmU0VZi8Rn"
      }
    },
    {
      "cell_type": "code",
      "source": [
        "credencial_email = \"teste@teste\"\n",
        "credencial_senha = \"343434\""
      ],
      "metadata": {
        "id": "6LXLOitssJ71"
      },
      "execution_count": 18,
      "outputs": []
    },
    {
      "cell_type": "code",
      "source": [
        "if os.path.exists(\"pharmusmc_credenciais.csv\"):\n",
        "  credenciais = pd.read_csv(\"pharmusmc_credenciais.csv\", sep=';')\n",
        "  if not credenciais.empty:\n",
        "    credencial_email = credenciais.email[0]\n",
        "    credencial_senha = credenciais.senha[0]  "
      ],
      "metadata": {
        "id": "nsDhOfmdtHVl"
      },
      "execution_count": 19,
      "outputs": []
    },
    {
      "cell_type": "markdown",
      "source": [
        "# Autenticação"
      ],
      "metadata": {
        "id": "SNbGEd8J4HCf"
      }
    },
    {
      "cell_type": "code",
      "source": [
        "payload_aut = {\n",
        "    \"email\": \"{email}\".format(email = credencial_email),\n",
        "    \"password\": \"{senha}\".format(senha = credencial_senha)\n",
        "}"
      ],
      "metadata": {
        "id": "CiR-_DC-sGq1"
      },
      "execution_count": 20,
      "outputs": []
    },
    {
      "cell_type": "code",
      "source": [
        "url = 'https://hmcapi.pharmus.com.br/api/v1/auth/login'"
      ],
      "metadata": {
        "id": "BMKNtrh7RkzC"
      },
      "execution_count": 21,
      "outputs": []
    },
    {
      "cell_type": "code",
      "source": [
        "headers = {\n",
        "  'Content-Type': 'application/json',\n",
        "  'Accept': 'application/json'\n",
        "}"
      ],
      "metadata": {
        "id": "pKLqifoRR5q5"
      },
      "execution_count": 22,
      "outputs": []
    },
    {
      "cell_type": "code",
      "source": [
        "response = requests.request('POST', url, headers=headers, json=payload_aut)"
      ],
      "metadata": {
        "id": "B_zY_pSaR87j"
      },
      "execution_count": 23,
      "outputs": []
    },
    {
      "cell_type": "code",
      "source": [
        "if response.status_code != 200:\n",
        "  print(response.status_code)\n"
      ],
      "metadata": {
        "id": "57jXZpCoY3dp"
      },
      "execution_count": 24,
      "outputs": []
    },
    {
      "cell_type": "code",
      "source": [
        "resposta = response.json()"
      ],
      "metadata": {
        "id": "Knnrmc4BSHEp"
      },
      "execution_count": 25,
      "outputs": []
    },
    {
      "cell_type": "code",
      "source": [
        "token_aut = resposta['access_token']"
      ],
      "metadata": {
        "id": "UhZ1-R8eSXsT"
      },
      "execution_count": 26,
      "outputs": []
    },
    {
      "cell_type": "markdown",
      "source": [
        "# Informar os códigos de integração\n",
        "\n",
        "Caso tenha alterado os valores do campo cod_integracao quando executou os exemplos de laboratório e substância não esqueça de alterá-los aqui."
      ],
      "metadata": {
        "id": "vnDqnOZlCSvZ"
      }
    },
    {
      "cell_type": "code",
      "source": [
        "laboratorio_cod_integracao = \"22\"\n",
        "substancia_cod_integracao = \"22\""
      ],
      "metadata": {
        "id": "NOX3o5jCCWyJ"
      },
      "execution_count": 27,
      "outputs": []
    },
    {
      "cell_type": "markdown",
      "source": [
        "# Recuperando o idsubstancia utilizando o código de integração"
      ],
      "metadata": {
        "id": "fKWoL2xr0HdF"
      }
    },
    {
      "cell_type": "code",
      "source": [
        "headers = {\n",
        "            'Content-Type': 'application/json',\n",
        "            'Accept': 'application/json',\n",
        "            'Authorization': 'Bearer {token}'.format(token = token_aut)\n",
        "          }"
      ],
      "metadata": {
        "id": "9BciQUqo0HdI"
      },
      "execution_count": 28,
      "outputs": []
    },
    {
      "cell_type": "code",
      "source": [
        "url = 'https://hmcapi.pharmus.com.br/api/v1/substancia/pesquisa/cod-integracao'"
      ],
      "metadata": {
        "id": "mW7vnvy_0HdJ"
      },
      "execution_count": 29,
      "outputs": []
    },
    {
      "cell_type": "code",
      "source": [
        "payload = {\n",
        "    \"cod_integracao\": \"{codint}\".format(codint = substancia_cod_integracao)\n",
        "}"
      ],
      "metadata": {
        "id": "9jn0UByO0HdJ"
      },
      "execution_count": 30,
      "outputs": []
    },
    {
      "cell_type": "code",
      "source": [
        "response = requests.request('POST', url, headers=headers, json=payload)"
      ],
      "metadata": {
        "id": "wDzP9jX90HdK"
      },
      "execution_count": 31,
      "outputs": []
    },
    {
      "cell_type": "code",
      "source": [
        "dados = response.json()"
      ],
      "metadata": {
        "id": "9823iJ0F0HdL"
      },
      "execution_count": 32,
      "outputs": []
    },
    {
      "cell_type": "code",
      "source": [
        "print(response.status_code)"
      ],
      "metadata": {
        "colab": {
          "base_uri": "https://localhost:8080/"
        },
        "outputId": "43999012-3927-45e0-d578-27903eb25de8",
        "id": "SZz26Ivd0HdL"
      },
      "execution_count": 33,
      "outputs": [
        {
          "output_type": "stream",
          "name": "stdout",
          "text": [
            "200\n"
          ]
        }
      ]
    },
    {
      "cell_type": "code",
      "source": [
        "if dados['status'] == 'success':\n",
        "  idsubstancia = dados['data']['idsubstancia']"
      ],
      "metadata": {
        "id": "Jd2Tw2fcI5bM"
      },
      "execution_count": 34,
      "outputs": []
    },
    {
      "cell_type": "code",
      "source": [
        "idsubstancia"
      ],
      "metadata": {
        "colab": {
          "base_uri": "https://localhost:8080/"
        },
        "id": "Q-HkA5LxJHjO",
        "outputId": "86a2dab6-ca15-4d3d-90fb-62684ba0c43a"
      },
      "execution_count": 35,
      "outputs": [
        {
          "output_type": "execute_result",
          "data": {
            "text/plain": [
              "6621"
            ]
          },
          "metadata": {},
          "execution_count": 35
        }
      ]
    },
    {
      "cell_type": "markdown",
      "source": [
        "# Recuperando o idlaboratorio utilizando o código de integração"
      ],
      "metadata": {
        "id": "-M12gIGpJhGm"
      }
    },
    {
      "cell_type": "code",
      "source": [
        "headers = {\n",
        "            'Content-Type': 'application/json',\n",
        "            'Accept': 'application/json',\n",
        "            'Authorization': 'Bearer {token}'.format(token = token_aut)\n",
        "          }"
      ],
      "metadata": {
        "id": "xz6E1C-lJhGo"
      },
      "execution_count": 36,
      "outputs": []
    },
    {
      "cell_type": "code",
      "source": [
        "url = 'https://hmcapi.pharmus.com.br/api/v1/laboratorio/pesquisa/cod-integracao'"
      ],
      "metadata": {
        "id": "unilFI-rJhGp"
      },
      "execution_count": 37,
      "outputs": []
    },
    {
      "cell_type": "code",
      "source": [
        "payload = {\n",
        "    \"cod_integracao\": \"{codint}\".format(codint = laboratorio_cod_integracao)\n",
        "}"
      ],
      "metadata": {
        "id": "3jCj7tkEJhGp"
      },
      "execution_count": 38,
      "outputs": []
    },
    {
      "cell_type": "code",
      "source": [
        "response = requests.request('POST', url, headers=headers, json=payload)"
      ],
      "metadata": {
        "id": "WaLGPttTJhGq"
      },
      "execution_count": 39,
      "outputs": []
    },
    {
      "cell_type": "code",
      "source": [
        "dados = response.json()"
      ],
      "metadata": {
        "id": "XVPaUgzaJhGr"
      },
      "execution_count": 40,
      "outputs": []
    },
    {
      "cell_type": "code",
      "source": [
        "print(response.status_code)"
      ],
      "metadata": {
        "colab": {
          "base_uri": "https://localhost:8080/"
        },
        "outputId": "3071ef7a-9ffc-4a24-be61-cc88c5d554f5",
        "id": "7bCEdHQ7JhGs"
      },
      "execution_count": 41,
      "outputs": [
        {
          "output_type": "stream",
          "name": "stdout",
          "text": [
            "200\n"
          ]
        }
      ]
    },
    {
      "cell_type": "code",
      "source": [
        "if dados['status'] == 'success':\n",
        "  idlaboratorio = dados['data']['idlaboratorio']"
      ],
      "metadata": {
        "id": "zuci-wpwJhGt"
      },
      "execution_count": 42,
      "outputs": []
    },
    {
      "cell_type": "code",
      "source": [
        "idlaboratorio"
      ],
      "metadata": {
        "colab": {
          "base_uri": "https://localhost:8080/"
        },
        "outputId": "40d3fa9f-38b9-4eb9-9eb9-b7d2d8c2cb7a",
        "id": "AwD3pWEcJhGu"
      },
      "execution_count": 43,
      "outputs": [
        {
          "output_type": "execute_result",
          "data": {
            "text/plain": [
              "5638"
            ]
          },
          "metadata": {},
          "execution_count": 43
        }
      ]
    },
    {
      "cell_type": "code",
      "source": [],
      "metadata": {
        "id": "PNHbl7hJKYpt"
      },
      "execution_count": 43,
      "outputs": []
    },
    {
      "cell_type": "markdown",
      "source": [
        "# Cadastrar medicamento"
      ],
      "metadata": {
        "id": "lNy85FDe5tRj"
      }
    },
    {
      "cell_type": "code",
      "source": [
        "headers = {\n",
        "            'Content-Type': 'application/json',\n",
        "            'Accept': 'application/json',\n",
        "            'Authorization': 'Bearer {token}'.format(token = token_aut)\n",
        "          }"
      ],
      "metadata": {
        "id": "DpJuJt0eUgKt"
      },
      "execution_count": 44,
      "outputs": []
    },
    {
      "cell_type": "code",
      "source": [
        "url = 'https://hmcapi.pharmus.com.br/api/v1/medicamento'"
      ],
      "metadata": {
        "id": "zrmWKNJNVDT0"
      },
      "execution_count": 45,
      "outputs": []
    },
    {
      "cell_type": "markdown",
      "source": [
        "## Atributos com validação\n",
        "\n",
        "idclasse_terapeutica - Para consultar valores válidos para este campo execute o [Exemplo no Github](https://github.com/Interativa-TI/pharmusmc-sample/blob/main/Classe_terapeutica.ipynb)\n",
        "\n",
        "idunidade_medida - Para consultar valores válidos para este campo execute o [Exemplo no Github](https://github.com/Interativa-TI/pharmusmc-sample/blob/main/Unidade_de_medida.ipynb)\n",
        "\n"
      ],
      "metadata": {
        "id": "wIwXfqsM-beZ"
      }
    },
    {
      "cell_type": "code",
      "source": [
        "payload = {\n",
        "    \"cod_barras\": \"7890000000003\",\n",
        "    \"registro_ms\": \"12345678903\",\n",
        "    \"descricao\": \"Medicamento de Teste 3\",\n",
        "    \"idclasse_terapeutica\": \"1\",\n",
        "    \"idlaboratorio\": \"{idlaboratorio}\".format(idlaboratorio = idlaboratorio),\n",
        "    \"idsubstancia\": \"{idsubstancia}\".format(idsubstancia = idsubstancia),\n",
        "    \"idunidade_medida\": \"1\",\n",
        "    \"complemento\": \"Complemento de Teste 3\",\n",
        "    \"uso_prolongado\": True,\n",
        "    \"bloqueio_envio_sngpc\": True,\n",
        "    \"cod_integracao\": \"2253\"\n",
        "}"
      ],
      "metadata": {
        "id": "UqXXN6h99UKv"
      },
      "execution_count": 46,
      "outputs": []
    },
    {
      "cell_type": "code",
      "source": [
        "response = requests.request('POST', url, headers=headers, json=payload)"
      ],
      "metadata": {
        "id": "BK43yOhqVxUg"
      },
      "execution_count": 47,
      "outputs": []
    },
    {
      "cell_type": "code",
      "source": [
        "dados = response.json()"
      ],
      "metadata": {
        "id": "SYUQKSE1WYJJ"
      },
      "execution_count": 48,
      "outputs": []
    },
    {
      "cell_type": "code",
      "source": [
        "print(response.status_code)"
      ],
      "metadata": {
        "id": "uOs_uI2nEndr",
        "colab": {
          "base_uri": "https://localhost:8080/"
        },
        "outputId": "a1af36bb-a78c-420b-fdfb-71cd1873bd88"
      },
      "execution_count": 49,
      "outputs": [
        {
          "output_type": "stream",
          "name": "stdout",
          "text": [
            "422\n"
          ]
        }
      ]
    },
    {
      "cell_type": "code",
      "source": [
        "if response.status_code == 201:\n",
        "  print(dados['status'])\n",
        "  print(dados['data']['msg'])\n"
      ],
      "metadata": {
        "id": "ZEDksYnRa0dY"
      },
      "execution_count": 50,
      "outputs": []
    },
    {
      "cell_type": "code",
      "source": [
        "if response.status_code == 200:\n",
        "  print(dados['status'])\n",
        "  print(dados['data']['msg'])\n"
      ],
      "metadata": {
        "id": "W5HX-z_Ht32n"
      },
      "execution_count": 51,
      "outputs": []
    },
    {
      "cell_type": "code",
      "source": [
        "if response.status_code == 422:\n",
        "  print(\"Mensagem de erro: {msg}\".format(msg=dados['message']))\n",
        "  for campo in dados['errors']:\n",
        "    print(\"Campo com erro: {campo}\".format(campo=campo))\n",
        "    for msg in dados['errors'][campo]:\n",
        "      print(\"--> {msg}\".format(msg=msg))\n",
        "    \n",
        "    "
      ],
      "metadata": {
        "id": "OXFjgYAgKv-C",
        "colab": {
          "base_uri": "https://localhost:8080/"
        },
        "outputId": "b4748b87-7433-4acd-e62a-26f29d94fbb0"
      },
      "execution_count": 52,
      "outputs": [
        {
          "output_type": "stream",
          "name": "stdout",
          "text": [
            "Mensagem de erro: Os dados fornecidos estão inválidos.\n",
            "Campo com erro: cod_barras\n",
            "--> O campo cod barras já está sendo utilizado.\n",
            "Campo com erro: registro_ms\n",
            "--> O campo registro ms já está sendo utilizado.\n",
            "Campo com erro: cod_integracao\n",
            "--> O campo cod integracao já está sendo utilizado.\n"
          ]
        }
      ]
    },
    {
      "cell_type": "markdown",
      "source": [
        "# Consultando pelo código de integração"
      ],
      "metadata": {
        "id": "cg3kHf2HfkFk"
      }
    },
    {
      "cell_type": "code",
      "source": [
        "headers = {\n",
        "            'Content-Type': 'application/json',\n",
        "            'Accept': 'application/json',\n",
        "            'Authorization': 'Bearer {token}'.format(token = token_aut)\n",
        "          }"
      ],
      "metadata": {
        "id": "hNI1tkRJfkFl"
      },
      "execution_count": 77,
      "outputs": []
    },
    {
      "cell_type": "code",
      "source": [
        "url = 'https://hmcapi.pharmus.com.br/api/v1/medicamento/pesquisa/cod-integracao'"
      ],
      "metadata": {
        "id": "j0cPEHl6fkFm"
      },
      "execution_count": 78,
      "outputs": []
    },
    {
      "cell_type": "code",
      "source": [
        "payload = {\n",
        "    \"cod_integracao\": \"2253\"\n",
        "}"
      ],
      "metadata": {
        "id": "JBt-Dhy5fkFm"
      },
      "execution_count": 79,
      "outputs": []
    },
    {
      "cell_type": "code",
      "source": [
        "response = requests.request('POST', url, headers=headers, json=payload)"
      ],
      "metadata": {
        "id": "0k_Pp9LXfkFn"
      },
      "execution_count": 80,
      "outputs": []
    },
    {
      "cell_type": "code",
      "source": [
        "dados = response.json()"
      ],
      "metadata": {
        "id": "aTcOjMEsfkFn"
      },
      "execution_count": 81,
      "outputs": []
    },
    {
      "cell_type": "code",
      "source": [
        "print(response.status_code)"
      ],
      "metadata": {
        "colab": {
          "base_uri": "https://localhost:8080/"
        },
        "outputId": "8e050e28-019e-470b-aff0-60f078260587",
        "id": "34ivwjCxfkFp"
      },
      "execution_count": 82,
      "outputs": [
        {
          "output_type": "stream",
          "name": "stdout",
          "text": [
            "200\n"
          ]
        }
      ]
    },
    {
      "cell_type": "code",
      "source": [
        "if response.status_code == 201:\n",
        "  print(dados['status'])\n",
        "  print(dados['data']['msg'])\n"
      ],
      "metadata": {
        "id": "SGYVigJa0HdM"
      },
      "execution_count": 83,
      "outputs": []
    },
    {
      "cell_type": "code",
      "source": [
        "if response.status_code == 200:\n",
        "  print(dados['status'])\n",
        "  if dados['status'] == 'success':\n",
        "    print(dados['data']['idmedicamento'])\n",
        "  else:\n",
        "    print(dados['message'])"
      ],
      "metadata": {
        "colab": {
          "base_uri": "https://localhost:8080/"
        },
        "id": "83_nezhp0iSe",
        "outputId": "2f017602-c968-44ba-dd3d-9860088d7207"
      },
      "execution_count": 84,
      "outputs": [
        {
          "output_type": "stream",
          "name": "stdout",
          "text": [
            "success\n",
            "34526\n"
          ]
        }
      ]
    }
  ]
}