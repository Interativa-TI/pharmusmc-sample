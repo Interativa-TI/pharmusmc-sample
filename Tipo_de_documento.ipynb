{
  "nbformat": 4,
  "nbformat_minor": 0,
  "metadata": {
    "colab": {
      "provenance": [],
      "collapsed_sections": [],
      "authorship_tag": "ABX9TyNNXf2iFaP+be6MiqNLMOwO",
      "include_colab_link": true
    },
    "kernelspec": {
      "name": "python3",
      "display_name": "Python 3"
    },
    "language_info": {
      "name": "python"
    }
  },
  "cells": [
    {
      "cell_type": "markdown",
      "metadata": {
        "id": "view-in-github",
        "colab_type": "text"
      },
      "source": [
        "<a href=\"https://colab.research.google.com/github/Interativa-TI/pharmusmc-sample/blob/main/Tipo_de_documento.ipynb\" target=\"_parent\"><img src=\"https://colab.research.google.com/assets/colab-badge.svg\" alt=\"Open In Colab\"/></a>"
      ]
    },
    {
      "cell_type": "code",
      "execution_count": null,
      "metadata": {
        "id": "xfv-cC0OREuA"
      },
      "outputs": [],
      "source": [
        "import requests"
      ]
    },
    {
      "cell_type": "code",
      "source": [
        "import json"
      ],
      "metadata": {
        "id": "_d_iEILQRfsR"
      },
      "execution_count": null,
      "outputs": []
    },
    {
      "cell_type": "code",
      "source": [
        "import pandas as pd"
      ],
      "metadata": {
        "id": "xkmsaNRStIqM"
      },
      "execution_count": null,
      "outputs": []
    },
    {
      "cell_type": "code",
      "source": [
        "import os"
      ],
      "metadata": {
        "id": "PFnAZ1bTx3kE"
      },
      "execution_count": null,
      "outputs": []
    },
    {
      "cell_type": "markdown",
      "source": [
        "# Credenciais\n",
        "\n",
        "Altere as variáveis abaixo com as credenciais recebidas por e-mail ou crie um arquivo pharmusmc_credenciais.csv (modelo disponível no repositório) e cole na sessão de arquivos do Colab."
      ],
      "metadata": {
        "id": "t9SmU0VZi8Rn"
      }
    },
    {
      "cell_type": "code",
      "source": [
        "credencial_email = \"teste@teste\"\n",
        "credencial_senha = \"343434\""
      ],
      "metadata": {
        "id": "6LXLOitssJ71"
      },
      "execution_count": null,
      "outputs": []
    },
    {
      "cell_type": "code",
      "source": [
        "if os.path.exists(\"pharmusmc_credenciais.csv\"):\n",
        "  credenciais = pd.read_csv(\"pharmusmc_credenciais.csv\", sep=';')\n",
        "  if not credenciais.empty:\n",
        "    credencial_email = credenciais.email[0]\n",
        "    credencial_senha = credenciais.senha[0]  "
      ],
      "metadata": {
        "id": "nsDhOfmdtHVl"
      },
      "execution_count": null,
      "outputs": []
    },
    {
      "cell_type": "markdown",
      "source": [
        "# Autenticação"
      ],
      "metadata": {
        "id": "SNbGEd8J4HCf"
      }
    },
    {
      "cell_type": "code",
      "source": [
        "payload_aut = {\n",
        "    \"email\": \"{email}\".format(email = credencial_email),\n",
        "    \"password\": \"{senha}\".format(senha = credencial_senha)\n",
        "}"
      ],
      "metadata": {
        "id": "CiR-_DC-sGq1"
      },
      "execution_count": null,
      "outputs": []
    },
    {
      "cell_type": "code",
      "source": [
        "url = 'https://hmcapi.pharmus.com.br/api/v1/auth/login'"
      ],
      "metadata": {
        "id": "BMKNtrh7RkzC"
      },
      "execution_count": null,
      "outputs": []
    },
    {
      "cell_type": "code",
      "source": [
        "headers = {\n",
        "  'Content-Type': 'application/json',\n",
        "  'Accept': 'application/json'\n",
        "}"
      ],
      "metadata": {
        "id": "pKLqifoRR5q5"
      },
      "execution_count": null,
      "outputs": []
    },
    {
      "cell_type": "code",
      "source": [
        "response = requests.request('POST', url, headers=headers, json=payload_aut)"
      ],
      "metadata": {
        "id": "B_zY_pSaR87j"
      },
      "execution_count": null,
      "outputs": []
    },
    {
      "cell_type": "code",
      "source": [
        "if response.status_code != 200:\n",
        "  print(response.status_code)\n"
      ],
      "metadata": {
        "id": "57jXZpCoY3dp"
      },
      "execution_count": null,
      "outputs": []
    },
    {
      "cell_type": "code",
      "source": [
        "resposta = response.json()"
      ],
      "metadata": {
        "id": "Knnrmc4BSHEp"
      },
      "execution_count": null,
      "outputs": []
    },
    {
      "cell_type": "code",
      "source": [
        "token_aut = resposta['access_token']"
      ],
      "metadata": {
        "id": "UhZ1-R8eSXsT"
      },
      "execution_count": null,
      "outputs": []
    },
    {
      "cell_type": "markdown",
      "source": [
        "# Consumo do recurso"
      ],
      "metadata": {
        "id": "lNy85FDe5tRj"
      }
    },
    {
      "cell_type": "code",
      "source": [
        "headers = {\n",
        "            'Content-Type': 'application/json',\n",
        "            'Accept': 'application/json',\n",
        "            'Authorization': 'Bearer {token}'.format(token = token_aut)\n",
        "          }"
      ],
      "metadata": {
        "id": "DpJuJt0eUgKt"
      },
      "execution_count": null,
      "outputs": []
    },
    {
      "cell_type": "code",
      "source": [
        "url = 'https://hmcapi.pharmus.com.br/api/v1/tipo-documento'"
      ],
      "metadata": {
        "id": "zrmWKNJNVDT0"
      },
      "execution_count": null,
      "outputs": []
    },
    {
      "cell_type": "code",
      "source": [
        "response = requests.request('GET', url, headers=headers)"
      ],
      "metadata": {
        "id": "BK43yOhqVxUg"
      },
      "execution_count": null,
      "outputs": []
    },
    {
      "cell_type": "code",
      "source": [
        "dados = response.json()"
      ],
      "metadata": {
        "id": "SYUQKSE1WYJJ"
      },
      "execution_count": null,
      "outputs": []
    },
    {
      "cell_type": "code",
      "source": [
        "for item in dados['data']['tipo_documento']:\n",
        "  print(\"Tipo: {id} {descricao} {ativo}\".format(id=item['idtipo_documento'], descricao=item['nome'], ativo=item['ativo']))"
      ],
      "metadata": {
        "id": "ZEDksYnRa0dY",
        "colab": {
          "base_uri": "https://localhost:8080/"
        },
        "outputId": "ea8bd633-3415-4710-a766-8f375b83f45b"
      },
      "execution_count": null,
      "outputs": [
        {
          "output_type": "stream",
          "name": "stdout",
          "text": [
            "Tipo: 22 ALVARÁ/LICENÇA SANITÁRIA ESTADUAL 1\n",
            "Tipo: 21 ALVARÁ/LICENÇA SANITÁRIA MUNICIPAL 1\n",
            "Tipo: 38 AUTORIZAÇÃO DE FUNCIONAMENTO DE EMPRESA 1\n",
            "Tipo: 39 AUTORIZAÇÃO ESPECIAL DE FUNCIONAMENTO 1\n",
            "Tipo: 40 AUTORIZAÇÃO ESPECIAL SIMPLIFICADA 1\n",
            "Tipo: 62 CADASTRO NACIONAL DE PESSOA JURIDICA 1\n",
            "Tipo: 8 CARTA PATENTE 1\n",
            "Tipo: 2 CARTEIRA DE IDENTIDADE 1\n",
            "Tipo: 11 CARTEIRA DE IDENTIDADE DO ESTRANGEIRO 1\n",
            "Tipo: 1 CARTEIRA DE REGISTRO PROFISSIONAL 1\n",
            "Tipo: 50 CARTEIRA DE TRABALHO E PREVIDÊNCIA SOCIAL 1\n",
            "Tipo: 6 CERTIDÃO DE CASAMENTO 1\n",
            "Tipo: 5 CERTIDÃO DE NASCIMENTO 1\n",
            "Tipo: 10 CERTIFICADO DE DISPENSA DE INCORPORAÇÃO 1\n",
            "Tipo: 7 CERTIFICADO DE RESERVISTA 1\n",
            "Tipo: 19 INSCRIÇÃO ESTADUAL 1\n",
            "Tipo: 20 INSCRIÇÃO MUNICIPAL 1\n",
            "Tipo: 13 PASSAPORTE 1\n",
            "Tipo: 4 PEDIDO DE AUTORIZAÇÃO DE TRABALHO 1\n",
            "Tipo: 14 PROTOCOLO DA POLÍCIA FEDERAL 1\n"
          ]
        }
      ]
    }
  ]
}