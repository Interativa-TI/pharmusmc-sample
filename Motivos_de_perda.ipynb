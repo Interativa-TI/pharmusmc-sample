{
  "nbformat": 4,
  "nbformat_minor": 0,
  "metadata": {
    "colab": {
      "name": "Motivos de perda.ipynb",
      "provenance": [],
      "collapsed_sections": [],
      "authorship_tag": "ABX9TyOpVeb6MgHIr+SmgdhNOs4z",
      "include_colab_link": true
    },
    "kernelspec": {
      "name": "python3",
      "display_name": "Python 3"
    },
    "language_info": {
      "name": "python"
    }
  },
  "cells": [
    {
      "cell_type": "markdown",
      "metadata": {
        "id": "view-in-github",
        "colab_type": "text"
      },
      "source": [
        "<a href=\"https://colab.research.google.com/github/Interativa-TI/pharmusmc-sample/blob/main/Motivos_de_perda.ipynb\" target=\"_parent\"><img src=\"https://colab.research.google.com/assets/colab-badge.svg\" alt=\"Open In Colab\"/></a>"
      ]
    },
    {
      "cell_type": "code",
      "execution_count": null,
      "metadata": {
        "id": "xfv-cC0OREuA"
      },
      "outputs": [],
      "source": [
        "import requests"
      ]
    },
    {
      "cell_type": "code",
      "source": [
        "import json"
      ],
      "metadata": {
        "id": "_d_iEILQRfsR"
      },
      "execution_count": null,
      "outputs": []
    },
    {
      "cell_type": "code",
      "source": [
        "import pandas as pd"
      ],
      "metadata": {
        "id": "xkmsaNRStIqM"
      },
      "execution_count": null,
      "outputs": []
    },
    {
      "cell_type": "code",
      "source": [
        "import os"
      ],
      "metadata": {
        "id": "PFnAZ1bTx3kE"
      },
      "execution_count": null,
      "outputs": []
    },
    {
      "cell_type": "markdown",
      "source": [
        "# Credenciais\n",
        "\n",
        "Altere as variáveis abaixo com as credenciais recebidas por e-mail ou crie um arquivo pharmusmc_credenciais.csv (modelo disponível no repositório) e cole na sessão de arquivos do Colab."
      ],
      "metadata": {
        "id": "t9SmU0VZi8Rn"
      }
    },
    {
      "cell_type": "code",
      "source": [
        "credencial_email = \"teste@teste\"\n",
        "credencial_senha = \"343434\""
      ],
      "metadata": {
        "id": "6LXLOitssJ71"
      },
      "execution_count": null,
      "outputs": []
    },
    {
      "cell_type": "code",
      "source": [
        "if os.path.exists(\"pharmusmc_credenciais.csv\"):\n",
        "  credenciais = pd.read_csv(\"pharmusmc_credenciais.csv\", sep=';')\n",
        "  if not credenciais.empty:\n",
        "    credencial_email = credenciais.email[0]\n",
        "    credencial_senha = credenciais.senha[0]  "
      ],
      "metadata": {
        "id": "nsDhOfmdtHVl"
      },
      "execution_count": null,
      "outputs": []
    },
    {
      "cell_type": "markdown",
      "source": [
        "# Autenticação"
      ],
      "metadata": {
        "id": "SNbGEd8J4HCf"
      }
    },
    {
      "cell_type": "code",
      "source": [
        "payload_aut = {\n",
        "    \"email\": \"{email}\".format(email = credencial_email),\n",
        "    \"password\": \"{senha}\".format(senha = credencial_senha)\n",
        "}"
      ],
      "metadata": {
        "id": "CiR-_DC-sGq1"
      },
      "execution_count": null,
      "outputs": []
    },
    {
      "cell_type": "code",
      "source": [
        "url = 'https://hmcapi.pharmus.com.br/api/v1/auth/login'"
      ],
      "metadata": {
        "id": "BMKNtrh7RkzC"
      },
      "execution_count": null,
      "outputs": []
    },
    {
      "cell_type": "code",
      "source": [
        "headers = {\n",
        "  'Content-Type': 'application/json',\n",
        "  'Accept': 'application/json'\n",
        "}"
      ],
      "metadata": {
        "id": "pKLqifoRR5q5"
      },
      "execution_count": null,
      "outputs": []
    },
    {
      "cell_type": "code",
      "source": [
        "response = requests.request('POST', url, headers=headers, json=payload_aut)"
      ],
      "metadata": {
        "id": "B_zY_pSaR87j"
      },
      "execution_count": null,
      "outputs": []
    },
    {
      "cell_type": "code",
      "source": [
        "if response.status_code != 200:\n",
        "  print(response.status_code)\n"
      ],
      "metadata": {
        "id": "57jXZpCoY3dp"
      },
      "execution_count": null,
      "outputs": []
    },
    {
      "cell_type": "code",
      "source": [
        "resposta = response.json()"
      ],
      "metadata": {
        "id": "Knnrmc4BSHEp"
      },
      "execution_count": null,
      "outputs": []
    },
    {
      "cell_type": "code",
      "source": [
        "token_aut = resposta['access_token']"
      ],
      "metadata": {
        "id": "UhZ1-R8eSXsT"
      },
      "execution_count": null,
      "outputs": []
    },
    {
      "cell_type": "markdown",
      "source": [
        "# Consumo do recurso"
      ],
      "metadata": {
        "id": "lNy85FDe5tRj"
      }
    },
    {
      "cell_type": "code",
      "source": [
        "headers = {\n",
        "            'Content-Type': 'application/json',\n",
        "            'Accept': 'application/json',\n",
        "            'Authorization': 'Bearer {token}'.format(token = token_aut)\n",
        "          }"
      ],
      "metadata": {
        "id": "DpJuJt0eUgKt"
      },
      "execution_count": null,
      "outputs": []
    },
    {
      "cell_type": "code",
      "source": [
        "url = 'https://hmcapi.pharmus.com.br/api/v1/motivo-perda'"
      ],
      "metadata": {
        "id": "zrmWKNJNVDT0"
      },
      "execution_count": null,
      "outputs": []
    },
    {
      "cell_type": "code",
      "source": [
        "response = requests.request('GET', url, headers=headers)"
      ],
      "metadata": {
        "id": "BK43yOhqVxUg"
      },
      "execution_count": null,
      "outputs": []
    },
    {
      "cell_type": "code",
      "source": [
        "dados = response.json()"
      ],
      "metadata": {
        "id": "SYUQKSE1WYJJ"
      },
      "execution_count": null,
      "outputs": []
    },
    {
      "cell_type": "code",
      "source": [
        "for item in dados['data']['motivo_perda']:\n",
        "  print(\"Motivo perda: {id} {descricao}\".format(id=item['idmotivo_perda'], descricao=item['descricao']))"
      ],
      "metadata": {
        "id": "ZEDksYnRa0dY",
        "colab": {
          "base_uri": "https://localhost:8080/"
        },
        "outputId": "35600a55-a8da-4fa1-a46d-cd6f1a57b3b8"
      },
      "execution_count": null,
      "outputs": [
        {
          "output_type": "stream",
          "name": "stdout",
          "text": [
            "Motivo perda: 4 Apreensão/Recolhimento pela Visa\n",
            "Motivo perda: 2 Avaria\n",
            "Motivo perda: 6 Coleta para controle de qualidade\n",
            "Motivo perda: 10 Devolução ao fornecedor/distribuidora\n",
            "Motivo perda: 1 Furto/Roubo\n",
            "Motivo perda: 7 Perda de exclusão da portaria 344\n",
            "Motivo perda: 5 Perda no processo\n",
            "Motivo perda: 8 Por desvio de qualidade\n",
            "Motivo perda: 9 Recolhimento do Fabricante\n",
            "Motivo perda: 3 Vencimento\n"
          ]
        }
      ]
    }
  ]
}