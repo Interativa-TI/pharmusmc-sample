{
  "nbformat": 4,
  "nbformat_minor": 0,
  "metadata": {
    "colab": {
      "provenance": [],
      "collapsed_sections": [],
      "authorship_tag": "ABX9TyMKQ21l5xT5SOFW8TGT7ay3",
      "include_colab_link": true
    },
    "kernelspec": {
      "name": "python3",
      "display_name": "Python 3"
    },
    "language_info": {
      "name": "python"
    }
  },
  "cells": [
    {
      "cell_type": "markdown",
      "metadata": {
        "id": "view-in-github",
        "colab_type": "text"
      },
      "source": [
        "<a href=\"https://colab.research.google.com/github/Interativa-TI/pharmusmc-sample/blob/main/Org%C3%A3o_expedidor.ipynb\" target=\"_parent\"><img src=\"https://colab.research.google.com/assets/colab-badge.svg\" alt=\"Open In Colab\"/></a>"
      ]
    },
    {
      "cell_type": "code",
      "execution_count": null,
      "metadata": {
        "id": "xfv-cC0OREuA"
      },
      "outputs": [],
      "source": [
        "import requests"
      ]
    },
    {
      "cell_type": "code",
      "source": [
        "import json"
      ],
      "metadata": {
        "id": "_d_iEILQRfsR"
      },
      "execution_count": null,
      "outputs": []
    },
    {
      "cell_type": "code",
      "source": [
        "import pandas as pd"
      ],
      "metadata": {
        "id": "xkmsaNRStIqM"
      },
      "execution_count": null,
      "outputs": []
    },
    {
      "cell_type": "code",
      "source": [
        "import os"
      ],
      "metadata": {
        "id": "PFnAZ1bTx3kE"
      },
      "execution_count": null,
      "outputs": []
    },
    {
      "cell_type": "markdown",
      "source": [
        "# Credenciais\n",
        "\n",
        "Altere as variáveis abaixo com as credenciais recebidas por e-mail ou crie um arquivo pharmusmc_credenciais.csv (modelo disponível no repositório) e cole na sessão de arquivos do Colab."
      ],
      "metadata": {
        "id": "t9SmU0VZi8Rn"
      }
    },
    {
      "cell_type": "code",
      "source": [
        "credencial_email = \"teste@teste\"\n",
        "credencial_senha = \"343434\""
      ],
      "metadata": {
        "id": "6LXLOitssJ71"
      },
      "execution_count": null,
      "outputs": []
    },
    {
      "cell_type": "code",
      "source": [
        "if os.path.exists(\"pharmusmc_credenciais.csv\"):\n",
        "  credenciais = pd.read_csv(\"pharmusmc_credenciais.csv\", sep=';')\n",
        "  if not credenciais.empty:\n",
        "    credencial_email = credenciais.email[0]\n",
        "    credencial_senha = credenciais.senha[0]  "
      ],
      "metadata": {
        "id": "nsDhOfmdtHVl"
      },
      "execution_count": null,
      "outputs": []
    },
    {
      "cell_type": "markdown",
      "source": [
        "# Autenticação"
      ],
      "metadata": {
        "id": "SNbGEd8J4HCf"
      }
    },
    {
      "cell_type": "code",
      "source": [
        "payload_aut = {\n",
        "    \"email\": \"{email}\".format(email = credencial_email),\n",
        "    \"password\": \"{senha}\".format(senha = credencial_senha)\n",
        "}"
      ],
      "metadata": {
        "id": "CiR-_DC-sGq1"
      },
      "execution_count": null,
      "outputs": []
    },
    {
      "cell_type": "code",
      "source": [
        "url = 'https://hmcapi.pharmus.com.br/api/v1/auth/login'"
      ],
      "metadata": {
        "id": "BMKNtrh7RkzC"
      },
      "execution_count": null,
      "outputs": []
    },
    {
      "cell_type": "code",
      "source": [
        "headers = {\n",
        "  'Content-Type': 'application/json',\n",
        "  'Accept': 'application/json'\n",
        "}"
      ],
      "metadata": {
        "id": "pKLqifoRR5q5"
      },
      "execution_count": null,
      "outputs": []
    },
    {
      "cell_type": "code",
      "source": [
        "response = requests.request('POST', url, headers=headers, json=payload_aut)"
      ],
      "metadata": {
        "id": "B_zY_pSaR87j"
      },
      "execution_count": null,
      "outputs": []
    },
    {
      "cell_type": "code",
      "source": [
        "if response.status_code != 200:\n",
        "  print(response.status_code)\n"
      ],
      "metadata": {
        "id": "57jXZpCoY3dp"
      },
      "execution_count": null,
      "outputs": []
    },
    {
      "cell_type": "code",
      "source": [
        "resposta = response.json()"
      ],
      "metadata": {
        "id": "Knnrmc4BSHEp"
      },
      "execution_count": null,
      "outputs": []
    },
    {
      "cell_type": "code",
      "source": [
        "token_aut = resposta['access_token']"
      ],
      "metadata": {
        "id": "UhZ1-R8eSXsT"
      },
      "execution_count": null,
      "outputs": []
    },
    {
      "cell_type": "markdown",
      "source": [
        "# Consumo do recurso"
      ],
      "metadata": {
        "id": "lNy85FDe5tRj"
      }
    },
    {
      "cell_type": "code",
      "source": [
        "headers = {\n",
        "            'Content-Type': 'application/json',\n",
        "            'Accept': 'application/json',\n",
        "            'Authorization': 'Bearer {token}'.format(token = token_aut)\n",
        "          }"
      ],
      "metadata": {
        "id": "DpJuJt0eUgKt"
      },
      "execution_count": null,
      "outputs": []
    },
    {
      "cell_type": "code",
      "source": [
        "url = 'https://hmcapi.pharmus.com.br/api/v1/orgao-expedidor'"
      ],
      "metadata": {
        "id": "zrmWKNJNVDT0"
      },
      "execution_count": null,
      "outputs": []
    },
    {
      "cell_type": "code",
      "source": [
        "response = requests.request('GET', url, headers=headers)"
      ],
      "metadata": {
        "id": "BK43yOhqVxUg"
      },
      "execution_count": null,
      "outputs": []
    },
    {
      "cell_type": "code",
      "source": [
        "dados = response.json()"
      ],
      "metadata": {
        "id": "SYUQKSE1WYJJ"
      },
      "execution_count": null,
      "outputs": []
    },
    {
      "cell_type": "code",
      "source": [
        "for item in dados['data']['orgao_expedidor']:\n",
        "  print(\"Orgão: {id} {descricao} {ativo}\".format(id=item['idorgao_expedidor'], descricao=item['codigo'], ativo=item['ativo']))"
      ],
      "metadata": {
        "id": "ZEDksYnRa0dY",
        "colab": {
          "base_uri": "https://localhost:8080/"
        },
        "outputId": "a04d4faa-2682-41ba-e65e-8bc0c0163a0f"
      },
      "execution_count": null,
      "outputs": [
        {
          "output_type": "stream",
          "name": "stdout",
          "text": [
            "Orgão: 41 ANVISA 1\n",
            "Orgão: 37 CFE 1\n",
            "Orgão: 32 CFN 1\n",
            "Orgão: 29 CFP 1\n",
            "Orgão: 34 CRCI 1\n",
            "Orgão: 3 CREA 1\n",
            "Orgão: 1 CRA 1\n",
            "Orgão: 35 CRB 1\n",
            "Orgão: 44 CRBM 1\n",
            "Orgão: 38 CRC 1\n",
            "Orgão: 2 CRE 1\n",
            "Orgão: 50 CORECON 1\n",
            "Orgão: 31 COREN 1\n",
            "Orgão: 4 CRF 1\n",
            "Orgão: 46 CREFITO 1\n",
            "Orgão: 49 CRFA 1\n",
            "Orgão: 26 CRM 1\n",
            "Orgão: 47 CRMV 1\n",
            "Orgão: 36 CRN 1\n",
            "Orgão: 30 CRO 1\n",
            "Orgão: 39 CRP 1\n",
            "Orgão: 40 CRQ 1\n",
            "Orgão: 27 CBM 1\n",
            "Orgão: 6 DPF 1\n",
            "Orgão: 28 DIC 1\n",
            "Orgão: 5 DGPC 1\n",
            "Orgão: 42 GOVEST 1\n",
            "Orgão: 9 IN 1\n",
            "Orgão: 8 IFP 1\n",
            "Orgão: 7 IDAMP 1\n",
            "Orgão: 45 IPF 1\n",
            "Orgão: 25 ITB 1\n",
            "Orgão: 10 JUNTA 1\n",
            "Orgão: 11 MAER 1\n",
            "Orgão: 13 MM 1\n",
            "Orgão: 33 MRE 1\n",
            "Orgão: 12 MEX 1\n",
            "Orgão: 48 MTE 1\n",
            "Orgão: 14 OAB 1\n",
            "Orgão: 24 PM 1\n",
            "Orgão: 43 PREF 1\n",
            "Orgão: 20 SSIPT 1\n",
            "Orgão: 19 SJTC 1\n",
            "Orgão: 18 SJS 1\n",
            "Orgão: 52 SRF 1\n",
            "Orgão: 51 SDS 1\n",
            "Orgão: 15 SEJSP 1\n",
            "Orgão: 16 SES 1\n",
            "Orgão: 21 SSP 1\n",
            "Orgão: 17 SESP 1\n",
            "Orgão: 22 VACIV 1\n",
            "Orgão: 23 VAMEN 1\n"
          ]
        }
      ]
    }
  ]
}