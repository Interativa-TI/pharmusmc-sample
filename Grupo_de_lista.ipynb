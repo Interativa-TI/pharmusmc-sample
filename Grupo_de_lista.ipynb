{
  "nbformat": 4,
  "nbformat_minor": 0,
  "metadata": {
    "colab": {
      "provenance": [],
      "collapsed_sections": [],
      "authorship_tag": "ABX9TyPgaBPQbRSmPBY9xYE4EuTR",
      "include_colab_link": true
    },
    "kernelspec": {
      "name": "python3",
      "display_name": "Python 3"
    },
    "language_info": {
      "name": "python"
    }
  },
  "cells": [
    {
      "cell_type": "markdown",
      "metadata": {
        "id": "view-in-github",
        "colab_type": "text"
      },
      "source": [
        "<a href=\"https://colab.research.google.com/github/Interativa-TI/pharmusmc-sample/blob/main/Grupo_de_lista.ipynb\" target=\"_parent\"><img src=\"https://colab.research.google.com/assets/colab-badge.svg\" alt=\"Open In Colab\"/></a>"
      ]
    },
    {
      "cell_type": "code",
      "execution_count": null,
      "metadata": {
        "id": "xfv-cC0OREuA"
      },
      "outputs": [],
      "source": [
        "import requests"
      ]
    },
    {
      "cell_type": "code",
      "source": [
        "import json"
      ],
      "metadata": {
        "id": "_d_iEILQRfsR"
      },
      "execution_count": null,
      "outputs": []
    },
    {
      "cell_type": "code",
      "source": [
        "import pandas as pd"
      ],
      "metadata": {
        "id": "xkmsaNRStIqM"
      },
      "execution_count": null,
      "outputs": []
    },
    {
      "cell_type": "code",
      "source": [
        "import os"
      ],
      "metadata": {
        "id": "PFnAZ1bTx3kE"
      },
      "execution_count": null,
      "outputs": []
    },
    {
      "cell_type": "markdown",
      "source": [
        "# Credenciais\n",
        "\n",
        "Altere as variáveis abaixo com as credenciais recebidas por e-mail ou crie um arquivo pharmusmc_credenciais.csv (modelo disponível no repositório) e cole na sessão de arquivos do Colab."
      ],
      "metadata": {
        "id": "t9SmU0VZi8Rn"
      }
    },
    {
      "cell_type": "code",
      "source": [
        "credencial_email = \"teste@teste\"\n",
        "credencial_senha = \"343434\""
      ],
      "metadata": {
        "id": "6LXLOitssJ71"
      },
      "execution_count": null,
      "outputs": []
    },
    {
      "cell_type": "code",
      "source": [
        "if os.path.exists(\"pharmusmc_credenciais.csv\"):\n",
        "  credenciais = pd.read_csv(\"pharmusmc_credenciais.csv\", sep=';')\n",
        "  if not credenciais.empty:\n",
        "    credencial_email = credenciais.email[0]\n",
        "    credencial_senha = credenciais.senha[0]  "
      ],
      "metadata": {
        "id": "nsDhOfmdtHVl"
      },
      "execution_count": null,
      "outputs": []
    },
    {
      "cell_type": "markdown",
      "source": [
        "# Autenticação"
      ],
      "metadata": {
        "id": "SNbGEd8J4HCf"
      }
    },
    {
      "cell_type": "code",
      "source": [
        "payload_aut = {\n",
        "    \"email\": \"{email}\".format(email = credencial_email),\n",
        "    \"password\": \"{senha}\".format(senha = credencial_senha)\n",
        "}"
      ],
      "metadata": {
        "id": "CiR-_DC-sGq1"
      },
      "execution_count": null,
      "outputs": []
    },
    {
      "cell_type": "code",
      "source": [
        "url = 'https://hmcapi.pharmus.com.br/api/v1/auth/login'"
      ],
      "metadata": {
        "id": "BMKNtrh7RkzC"
      },
      "execution_count": null,
      "outputs": []
    },
    {
      "cell_type": "code",
      "source": [
        "headers = {\n",
        "  'Content-Type': 'application/json',\n",
        "  'Accept': 'application/json'\n",
        "}"
      ],
      "metadata": {
        "id": "pKLqifoRR5q5"
      },
      "execution_count": null,
      "outputs": []
    },
    {
      "cell_type": "code",
      "source": [
        "response = requests.request('POST', url, headers=headers, json=payload_aut)"
      ],
      "metadata": {
        "id": "B_zY_pSaR87j"
      },
      "execution_count": null,
      "outputs": []
    },
    {
      "cell_type": "code",
      "source": [
        "if response.status_code != 200:\n",
        "  print(response.status_code)\n"
      ],
      "metadata": {
        "id": "57jXZpCoY3dp"
      },
      "execution_count": null,
      "outputs": []
    },
    {
      "cell_type": "code",
      "source": [
        "resposta = response.json()"
      ],
      "metadata": {
        "id": "Knnrmc4BSHEp"
      },
      "execution_count": null,
      "outputs": []
    },
    {
      "cell_type": "code",
      "source": [
        "token_aut = resposta['access_token']"
      ],
      "metadata": {
        "id": "UhZ1-R8eSXsT"
      },
      "execution_count": null,
      "outputs": []
    },
    {
      "cell_type": "markdown",
      "source": [
        "# Consumo do recurso"
      ],
      "metadata": {
        "id": "lNy85FDe5tRj"
      }
    },
    {
      "cell_type": "code",
      "source": [
        "headers = {\n",
        "            'Content-Type': 'application/json',\n",
        "            'Accept': 'application/json',\n",
        "            'Authorization': 'Bearer {token}'.format(token = token_aut)\n",
        "          }"
      ],
      "metadata": {
        "id": "DpJuJt0eUgKt"
      },
      "execution_count": null,
      "outputs": []
    },
    {
      "cell_type": "code",
      "source": [
        "url = 'https://hmcapi.pharmus.com.br/api/v1/grupo-lista'"
      ],
      "metadata": {
        "id": "zrmWKNJNVDT0"
      },
      "execution_count": null,
      "outputs": []
    },
    {
      "cell_type": "code",
      "source": [
        "response = requests.request('GET', url, headers=headers)"
      ],
      "metadata": {
        "id": "BK43yOhqVxUg"
      },
      "execution_count": null,
      "outputs": []
    },
    {
      "cell_type": "code",
      "source": [
        "dados = response.json()"
      ],
      "metadata": {
        "id": "SYUQKSE1WYJJ"
      },
      "execution_count": null,
      "outputs": []
    },
    {
      "cell_type": "code",
      "source": [
        "for item in dados['data']['grupo_lista']:\n",
        "  print(\"Grupo: {id} {descricao} {ativo}\".format(id=item['idgrupo_lista'], descricao=item['descricao'], ativo=item['ativo']))"
      ],
      "metadata": {
        "id": "ZEDksYnRa0dY",
        "colab": {
          "base_uri": "https://localhost:8080/"
        },
        "outputId": "f467a739-0ac0-43d5-fd76-0889f0a63844"
      },
      "execution_count": null,
      "outputs": [
        {
          "output_type": "stream",
          "name": "stdout",
          "text": [
            "Grupo: 8 Anabolizantes 1\n",
            "Grupo: 2 Anti-retrovirais 1\n",
            "Grupo: 1 Antimicrobianos 1\n",
            "Grupo: 3 Entorpecentes 1\n",
            "Grupo: 4 Imunossupressores 1\n",
            "Grupo: 5 Psicotrópicos 1\n",
            "Grupo: 6 Retinoicas 1\n",
            "Grupo: 7 Sujeito a controle especial 1\n"
          ]
        }
      ]
    }
  ]
}